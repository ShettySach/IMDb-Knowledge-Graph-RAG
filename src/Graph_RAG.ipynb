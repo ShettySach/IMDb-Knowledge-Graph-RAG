{
 "cells": [
  {
   "cell_type": "code",
   "execution_count": 1,
   "id": "64a3f149-8f2a-4eed-aa89-75d8ba327cb3",
   "metadata": {},
   "outputs": [],
   "source": [
    "from os import getenv\n",
    "from dotenv import load_dotenv\n",
    "from langchain_community.graphs import Neo4jGraph\n",
    "from langchain.chains import GraphCypherQAChain\n",
    "from langchain_google_genai import ChatGoogleGenerativeAI"
   ]
  },
  {
   "cell_type": "markdown",
   "id": "97b4c9b6-94c9-4d7b-826d-41b3701af977",
   "metadata": {},
   "source": [
    "#### You will need [Neo4j APOC](https://neo4j.com/docs/apoc/current/installation/) for langchain_community.graph.Neo4jGraph to function.\n",
    "Follow the instructions in the link and then, in neo4j.conf, set \n",
    "`dbms.security.procedures.unrestricted=apoc.*`"
   ]
  },
  {
   "cell_type": "code",
   "execution_count": 2,
   "id": "1fc2d0c9-06a7-4695-9fd5-a38fb535d79a",
   "metadata": {},
   "outputs": [
    {
     "data": {
      "text/plain": [
       "True"
      ]
     },
     "execution_count": 2,
     "metadata": {},
     "output_type": "execute_result"
    }
   ],
   "source": [
    "load_dotenv()"
   ]
  },
  {
   "cell_type": "code",
   "execution_count": 3,
   "id": "9f3830e1-cf3c-49f7-bee3-e36640062c21",
   "metadata": {},
   "outputs": [],
   "source": [
    "neo4j_url= getenv(\"NEO4J_URL\")\n",
    "neo4j_user = getenv(\"NEO4J_USER\")\n",
    "neo4j_password = getenv(\"NEO4J_PW\")\n",
    "neo4j_database = getenv(\"NEO4J_DB\")"
   ]
  },
  {
   "cell_type": "code",
   "execution_count": 4,
   "id": "c9fdb285-2572-4f6a-b32f-86e707fe1c19",
   "metadata": {},
   "outputs": [],
   "source": [
    "graph = Neo4jGraph(neo4j_url, neo4j_user, neo4j_password, neo4j_database)"
   ]
  },
  {
   "cell_type": "code",
   "execution_count": 5,
   "id": "5d079ba8-89c2-4c36-9d47-d80d2176dfba",
   "metadata": {},
   "outputs": [
    {
     "name": "stdout",
     "output_type": "stream",
     "text": [
      "Node properties:\n",
      "Movie {tagline: STRING, rating: FLOAT, certificate: STRING, title: STRING, run_time: INTEGER, year: INTEGER}\n",
      "Person {name: STRING}\n",
      "Actor {name: STRING}\n",
      "Director {name: STRING}\n",
      "Writer {name: STRING}\n",
      "Genre {name: STRING}\n",
      "Relationship properties:\n",
      "\n",
      "The relationships:\n",
      "(:Movie)-[:BELONGS_TO]->(:Genre)\n",
      "(:Person)-[:WROTE]->(:Movie)\n",
      "(:Person)-[:ACTED_IN]->(:Movie)\n",
      "(:Person)-[:DIRECTED]->(:Movie)\n",
      "(:Actor)-[:ACTED_IN]->(:Movie)\n",
      "(:Actor)-[:WROTE]->(:Movie)\n",
      "(:Actor)-[:DIRECTED]->(:Movie)\n",
      "(:Director)-[:WROTE]->(:Movie)\n",
      "(:Director)-[:DIRECTED]->(:Movie)\n",
      "(:Director)-[:ACTED_IN]->(:Movie)\n",
      "(:Writer)-[:WROTE]->(:Movie)\n",
      "(:Writer)-[:DIRECTED]->(:Movie)\n",
      "(:Writer)-[:ACTED_IN]->(:Movie)\n"
     ]
    }
   ],
   "source": [
    "print(graph.schema)"
   ]
  },
  {
   "cell_type": "markdown",
   "id": "d585fc95-7ac9-4a00-a02e-7f644958247d",
   "metadata": {},
   "source": [
    "#### Gemini "
   ]
  },
  {
   "cell_type": "code",
   "execution_count": 6,
   "id": "e81d6344-a009-43c3-a410-e8f1a1493255",
   "metadata": {},
   "outputs": [],
   "source": [
    "gemini_api = getenv(\"GEMINI_API\")"
   ]
  },
  {
   "cell_type": "code",
   "execution_count": 7,
   "id": "ef58fa79-4111-4b88-89c3-7dedbceb2938",
   "metadata": {},
   "outputs": [],
   "source": [
    "llm = ChatGoogleGenerativeAI(model=\"gemini-pro\", google_api_key = gemini_api ,temperature = 0)\n",
    "chain = GraphCypherQAChain.from_llm(graph=graph, llm=llm, verbose=True)"
   ]
  },
  {
   "cell_type": "markdown",
   "id": "ce10bb02-3bbd-4484-8394-1605708f2353",
   "metadata": {},
   "source": [
    "### Prompts"
   ]
  },
  {
   "cell_type": "markdown",
   "id": "c8af96b7-fe32-4623-ab97-740af5783b79",
   "metadata": {},
   "source": [
    "- #### Simple prompts."
   ]
  },
  {
   "cell_type": "code",
   "execution_count": 8,
   "id": "a5f9b984-1e45-4d50-936f-4c3a277df2f0",
   "metadata": {},
   "outputs": [
    {
     "name": "stdout",
     "output_type": "stream",
     "text": [
      "\n",
      "\n",
      "\u001b[1m> Entering new GraphCypherQAChain chain...\u001b[0m\n",
      "Generated Cypher:\n",
      "\u001b[32;1m\u001b[1;3mcypher\n",
      "MATCH (m:Movie)\n",
      "WHERE m.year < 1960\n",
      "RETURN m.title AS Title, m.rating AS Rating\n",
      "ORDER BY m.rating DESC\n",
      "LIMIT 10;\n",
      "\u001b[0m\n",
      "Full Context:\n",
      "\u001b[32;1m\u001b[1;3m[{'Title': '12 Angry Men', 'Rating': 9.0}, {'Title': \"It's a Wonderful Life\", 'Rating': 8.6}, {'Title': 'Seven Samurai', 'Rating': 8.6}, {'Title': 'City Lights', 'Rating': 8.5}, {'Title': 'Rear Window', 'Rating': 8.5}, {'Title': 'Casablanca', 'Rating': 8.5}, {'Title': 'Modern Times', 'Rating': 8.5}, {'Title': 'Sunset Blvd.', 'Rating': 8.4}, {'Title': 'Paths of Glory', 'Rating': 8.4}, {'Title': 'The Great Dictator', 'Rating': 8.4}]\u001b[0m\n",
      "\n",
      "\u001b[1m> Finished chain.\u001b[0m\n",
      "12 Angry Men, It's a Wonderful Life, Seven Samurai, City Lights, Rear Window, Casablanca, Modern Times, Sunset Blvd., Paths of Glory, The Great Dictator\n",
      "\n",
      "\n",
      "\u001b[1m> Entering new GraphCypherQAChain chain...\u001b[0m\n",
      "Generated Cypher:\n",
      "\u001b[32;1m\u001b[1;3mcypher\n",
      "MATCH (m:Movie)-[:BELONGS_TO]->(:Genre {name: \"Crime\"})\n",
      "RETURN m.title, m.rating\n",
      "ORDER BY m.rating DESC\n",
      "LIMIT 3\n",
      "\u001b[0m\n",
      "Full Context:\n",
      "\u001b[32;1m\u001b[1;3m[{'m.title': 'The Godfather', 'm.rating': 9.2}, {'m.title': 'The Dark Knight', 'm.rating': 9.0}, {'m.title': 'The Godfather Part II', 'm.rating': 9.0}]\u001b[0m\n",
      "\n",
      "\u001b[1m> Finished chain.\u001b[0m\n",
      "1. The Godfather (9.2)\n",
      "2. The Dark Knight (9.0)\n",
      "3. The Godfather Part II (9.0)\n",
      "\n",
      "\n",
      "\u001b[1m> Entering new GraphCypherQAChain chain...\u001b[0m\n",
      "Generated Cypher:\n",
      "\u001b[32;1m\u001b[1;3mcypher\n",
      "MATCH (d:Director)-[:DIRECTED]->(m:Movie)\n",
      "RETURN d.name, AVG(m.rating) AS avg_rating\n",
      "ORDER BY avg_rating DESC\n",
      "LIMIT 1;\n",
      "\u001b[0m\n",
      "Full Context:\n",
      "\u001b[32;1m\u001b[1;3m[{'d.name': 'Frank Darabont', 'avg_rating': 8.95}]\u001b[0m\n",
      "\n",
      "\u001b[1m> Finished chain.\u001b[0m\n",
      "Frank Darabont is the director with highest average rating for their movies.\n",
      "\n",
      "\n",
      "\u001b[1m> Entering new GraphCypherQAChain chain...\u001b[0m\n",
      "Generated Cypher:\n",
      "\u001b[32;1m\u001b[1;3mMATCH (p1:Person {name: \"Robert De Niro\"}), (p2:Person {name: \"Al Pacino\"}), (m:Movie)\n",
      "WHERE (p1)-[:ACTED_IN]->(m) AND (p2)-[:ACTED_IN]->(m)\n",
      "RETURN m.title\u001b[0m\n",
      "Full Context:\n",
      "\u001b[32;1m\u001b[1;3m[{'m.title': 'The Godfather Part II'}, {'m.title': 'Heat'}]\u001b[0m\n",
      "\n",
      "\u001b[1m> Finished chain.\u001b[0m\n",
      "The Godfather Part II, Heat\n",
      "\n",
      "\n",
      "\u001b[1m> Entering new GraphCypherQAChain chain...\u001b[0m\n",
      "Generated Cypher:\n",
      "\u001b[32;1m\u001b[1;3mcypher\n",
      "MATCH (brad:Person {name: \"Brad Pitt\"})-[:ACTED_IN]->(movie:Movie)<-[:DIRECTED]-(director:Person)\n",
      "RETURN director.name AS director_name, COUNT(*) AS num_collaborations\n",
      "ORDER BY num_collaborations DESC\n",
      "LIMIT 1;\n",
      "\u001b[0m\n",
      "Full Context:\n",
      "\u001b[32;1m\u001b[1;3m[{'director_name': 'David Fincher', 'num_collaborations': 2}]\u001b[0m\n",
      "\n",
      "\u001b[1m> Finished chain.\u001b[0m\n",
      "David Fincher has worked with Brad Pitt the most, with 2 collaborations.\n"
     ]
    }
   ],
   "source": [
    "questions = [\n",
    "    \"Which are the best movies released before 1960?\",\n",
    "    \"Which are the 3 best crime dramas?\",\n",
    "    \"Who is the director with highest average rating for their movies?\",\n",
    "    \"In what movies have Robert DeNiro and Al Pacino together?\",\n",
    "    \"Which director has Brad Pitt worked with the most?\"\n",
    "]\n",
    "\n",
    "for question in questions:\n",
    "    print(chain.invoke(question)[\"result\"])"
   ]
  },
  {
   "cell_type": "markdown",
   "id": "7a8529ee-9d1f-45ee-aa41-af09e6c1144b",
   "metadata": {},
   "source": [
    "- #### Some prompts need clarification. In this case, writers, directors  and actors who have worked together need to be specified as different people."
   ]
  },
  {
   "cell_type": "code",
   "execution_count": 9,
   "id": "fcf2065a-5d0b-4cd6-ad26-906f170a40aa",
   "metadata": {},
   "outputs": [
    {
     "name": "stdout",
     "output_type": "stream",
     "text": [
      "\n",
      "\n",
      "\u001b[1m> Entering new GraphCypherQAChain chain...\u001b[0m\n",
      "Generated Cypher:\n",
      "\u001b[32;1m\u001b[1;3mcypher\n",
      "MATCH (a:Actor)-[:ACTED_IN]->(m:Movie)<-[:DIRECTED]-(d:Director)\n",
      "RETURN a.name AS actor_name, d.name AS director_name, COUNT(*) AS collaborations\n",
      "ORDER BY collaborations DESC\n",
      "LIMIT 1;\n",
      "\u001b[0m\n",
      "Full Context:\n",
      "\u001b[32;1m\u001b[1;3m[{'actor_name': 'Charles Chaplin', 'director_name': 'Charles Chaplin', 'collaborations': 5}]\u001b[0m\n",
      "\n",
      "\u001b[1m> Finished chain.\u001b[0m\n",
      "Charles Chaplin and Charles Chaplin have worked together the most, with 5 collaborations.\n",
      "\n",
      "\n",
      "\u001b[1m> Entering new GraphCypherQAChain chain...\u001b[0m\n",
      "Generated Cypher:\n",
      "\u001b[32;1m\u001b[1;3mcypher\n",
      "MATCH (w:Writer)-[:WROTE]->(m:Movie)<-[:DIRECTED]-(d:Director)\n",
      "RETURN w.name AS Writer, d.name AS Director, count(m) AS Collaborations\n",
      "ORDER BY Collaborations DESC\n",
      "LIMIT 1;\n",
      "\u001b[0m\n",
      "Full Context:\n",
      "\u001b[32;1m\u001b[1;3m[{'Writer': 'Christopher Nolan', 'Director': 'Christopher Nolan', 'Collaborations': 7}]\u001b[0m\n",
      "\n",
      "\u001b[1m> Finished chain.\u001b[0m\n",
      "Christopher Nolan has worked with himself the most.\n",
      "\n",
      "\n",
      "\u001b[1m> Entering new GraphCypherQAChain chain...\u001b[0m\n",
      "Generated Cypher:\n",
      "\u001b[32;1m\u001b[1;3mcypher\n",
      "MATCH (a:Actor)-[:ACTED_IN]->(m:Movie)<-[:DIRECTED]-(d:Director)\n",
      "WHERE a <> d\n",
      "RETURN a.name AS actor_name, d.name AS director_name, COUNT(*) AS collaborations\n",
      "ORDER BY collaborations DESC\n",
      "LIMIT 1;\n",
      "\u001b[0m\n",
      "Full Context:\n",
      "\u001b[32;1m\u001b[1;3m[{'actor_name': 'Christian Bale', 'director_name': 'Christopher Nolan', 'collaborations': 4}]\u001b[0m\n",
      "\n",
      "\u001b[1m> Finished chain.\u001b[0m\n",
      "Christian Bale and Christopher Nolan have worked together the most, with 4 collaborations.\n",
      "\n",
      "\n",
      "\u001b[1m> Entering new GraphCypherQAChain chain...\u001b[0m\n",
      "Generated Cypher:\n",
      "\u001b[32;1m\u001b[1;3mcypher\n",
      "MATCH (w:Writer)-[:WROTE]->(m:Movie)<-[:DIRECTED]-(d:Director)\n",
      "WHERE w <> d\n",
      "RETURN w.name, d.name, count(m) AS collaborations\n",
      "ORDER BY collaborations DESC\n",
      "LIMIT 1;\n",
      "\u001b[0m\n",
      "Full Context:\n",
      "\u001b[32;1m\u001b[1;3m[{'w.name': 'Jonathan Nolan', 'd.name': 'Christopher Nolan', 'collaborations': 5}]\u001b[0m\n",
      "\n",
      "\u001b[1m> Finished chain.\u001b[0m\n",
      "Jonathan Nolan and Christopher Nolan have worked together the most.\n"
     ]
    }
   ],
   "source": [
    "questions = [\n",
    "    \"Which actor and director have worked together the most?\",\n",
    "    \"Which writer and director have worked together the most?\",\n",
    "\n",
    "    \"Which actor and director have worked together the most? Remember they cannot be the same person.\",\n",
    "    \"Which writer and director have worked together the most? Remember they cannot be the same person.\"\n",
    "]\n",
    "\n",
    "for question in questions:\n",
    "    print(chain.invoke(question)[\"result\"])"
   ]
  },
  {
   "cell_type": "markdown",
   "id": "4ac6ffa7-ee91-455b-94d1-cd27f04f0036",
   "metadata": {},
   "source": [
    "- #### Sometimes the LLM generates proper Cypher queries, which return the proper results, but the LLM is unable to infer the required information from these results.\n",
    "- #### Adding another line that motivates it to understand helps in these cases."
   ]
  },
  {
   "cell_type": "code",
   "execution_count": 10,
   "id": "a24e135f-22e0-421b-8534-cbfd3f20a142",
   "metadata": {},
   "outputs": [
    {
     "name": "stdout",
     "output_type": "stream",
     "text": [
      "\n",
      "\n",
      "\u001b[1m> Entering new GraphCypherQAChain chain...\u001b[0m\n",
      "Generated Cypher:\n",
      "\u001b[32;1m\u001b[1;3mcypher\n",
      "MATCH (a:Actor)-[:ACTED_IN]->(m:Movie)\n",
      "WHERE m.rating > 4.0\n",
      "RETURN a.name, COUNT(m) AS num_movies\n",
      "ORDER BY num_movies DESC\n",
      "LIMIT 1;\n",
      "\u001b[0m\n",
      "Full Context:\n",
      "\u001b[32;1m\u001b[1;3m[{'a.name': 'Robert De Niro', 'num_movies': 9}]\u001b[0m\n",
      "\n",
      "\u001b[1m> Finished chain.\u001b[0m\n",
      "I don't know the answer to this question.\n",
      "\n",
      "\n",
      "\u001b[1m> Entering new GraphCypherQAChain chain...\u001b[0m\n",
      "Generated Cypher:\n",
      "\u001b[32;1m\u001b[1;3mcypher\n",
      "MATCH (a:Actor)-[:ACTED_IN]->(m:Movie)\n",
      "WHERE m.rating > 4.0\n",
      "RETURN a.name, count(m) AS num_movies\n",
      "ORDER BY num_movies DESC\n",
      "LIMIT 1;\n",
      "\u001b[0m\n",
      "Full Context:\n",
      "\u001b[32;1m\u001b[1;3m[{'a.name': 'Robert De Niro', 'num_movies': 9}]\u001b[0m\n",
      "\n",
      "\u001b[1m> Finished chain.\u001b[0m\n",
      "Robert De Niro has starred in 9 movies.\n"
     ]
    }
   ],
   "source": [
    "questions = [\n",
    "    \"Who is the actor who has starred in most of the best rated movies.\",\n",
    "    \n",
    "    \"Who is the actor who has starred in most of the best rated movies.\" \\\n",
    "    \"You know the answer. Just parse the result from the Cypher query, understand it, then tell me the actor\",\n",
    "]\n",
    "\n",
    "for question in questions:\n",
    "    print(chain.invoke(question)[\"result\"])"
   ]
  },
  {
   "cell_type": "markdown",
   "id": "4b68b238-4746-4898-994e-a5731b28e4f1",
   "metadata": {},
   "source": [
    "### Enter your own prompts -"
   ]
  },
  {
   "cell_type": "code",
   "execution_count": 12,
   "id": "1b359b65-cc20-41a1-95d0-177a4e9f9db4",
   "metadata": {},
   "outputs": [
    {
     "name": "stdin",
     "output_type": "stream",
     "text": [
      "\n",
      "\n",
      "Enter your question (Type 'EXIT' to exit) :  Top 5 thriller movies made before 2000.\n"
     ]
    },
    {
     "name": "stdout",
     "output_type": "stream",
     "text": [
      "\n",
      "\n",
      "\u001b[1m> Entering new GraphCypherQAChain chain...\u001b[0m\n",
      "Generated Cypher:\n",
      "\u001b[32;1m\u001b[1;3mcypher\n",
      "MATCH (m:Movie)-[:BELONGS_TO]->(:Genre {name: \"Thriller\"})\n",
      "WHERE m.year < 2000\n",
      "RETURN m.title, m.year\n",
      "ORDER BY m.rating DESC\n",
      "LIMIT 5;\n",
      "\u001b[0m\n",
      "Full Context:\n",
      "\u001b[32;1m\u001b[1;3m[{'m.title': 'The Silence of the Lambs', 'm.year': 1991}, {'m.title': 'Rear Window', 'm.year': 1954}, {'m.title': 'Psycho', 'm.year': 1960}, {'m.title': 'Come and See', 'm.year': 1985}, {'m.title': 'Reservoir Dogs', 'm.year': 1992}]\u001b[0m\n",
      "\n",
      "\u001b[1m> Finished chain.\u001b[0m\n",
      "1. The Silence of the Lambs (1991)\n",
      "2. Rear Window (1954)\n",
      "3. Psycho (1960)\n",
      "4. Come and See (1985)\n",
      "5. Reservoir Dogs (1992)\n"
     ]
    },
    {
     "name": "stdin",
     "output_type": "stream",
     "text": [
      "\n",
      "\n",
      "Enter your question (Type 'EXIT' to exit) :  Best Robert DeNiro movie?\n"
     ]
    },
    {
     "name": "stdout",
     "output_type": "stream",
     "text": [
      "\n",
      "\n",
      "\u001b[1m> Entering new GraphCypherQAChain chain...\u001b[0m\n",
      "Generated Cypher:\n",
      "\u001b[32;1m\u001b[1;3mcypher\n",
      "MATCH (m:Movie)<-[:ACTED_IN]-(a:Actor {name: \"Robert De Niro\"})\n",
      "RETURN m.title AS BestMovie, m.rating AS Rating\n",
      "ORDER BY m.rating DESC\n",
      "LIMIT 1;\n",
      "\u001b[0m\n",
      "Full Context:\n",
      "\u001b[32;1m\u001b[1;3m[{'BestMovie': 'The Godfather Part II', 'Rating': 9.0}]\u001b[0m\n",
      "\n",
      "\u001b[1m> Finished chain.\u001b[0m\n",
      "I don't know the answer to that question.\n"
     ]
    },
    {
     "name": "stdin",
     "output_type": "stream",
     "text": [
      "\n",
      "\n",
      "Enter your question (Type 'EXIT' to exit) :  Best Robert DeNiro movie? You know the answer. Parse the result and answer.\n"
     ]
    },
    {
     "name": "stdout",
     "output_type": "stream",
     "text": [
      "\n",
      "\n",
      "\u001b[1m> Entering new GraphCypherQAChain chain...\u001b[0m\n",
      "Generated Cypher:\n",
      "\u001b[32;1m\u001b[1;3mMATCH (m:Movie)<-[:ACTED_IN]-(a:Actor {name: \"Robert De Niro\"})\n",
      "RETURN m.title AS best_movie_by_Robert_De_Niro\n",
      "ORDER BY m.rating DESC\n",
      "LIMIT 1\u001b[0m\n",
      "Full Context:\n",
      "\u001b[32;1m\u001b[1;3m[{'best_movie_by_Robert_De_Niro': 'The Godfather Part II'}]\u001b[0m\n",
      "\n",
      "\u001b[1m> Finished chain.\u001b[0m\n",
      "The Godfather Part II\n"
     ]
    },
    {
     "name": "stdin",
     "output_type": "stream",
     "text": [
      "\n",
      "\n",
      "Enter your question (Type 'EXIT' to exit) :  Which actor has Robert DeNiro worked alongside the most?\n"
     ]
    },
    {
     "name": "stdout",
     "output_type": "stream",
     "text": [
      "\n",
      "\n",
      "\u001b[1m> Entering new GraphCypherQAChain chain...\u001b[0m\n",
      "Generated Cypher:\n",
      "\u001b[32;1m\u001b[1;3mcypher\n",
      "MATCH (a:Actor {name: \"Robert De Niro\"})-[:ACTED_IN]-(m:Movie)\n",
      "WITH m, a\n",
      "MATCH (m)-[:ACTED_IN]-(co:Actor)\n",
      "WHERE co <> a\n",
      "RETURN co.name AS Co_Actor, COUNT(*) AS Number_of_Collaborations\n",
      "ORDER BY Number_of_Collaborations DESC\n",
      "LIMIT 1;\n",
      "\u001b[0m\n",
      "Full Context:\n",
      "\u001b[32;1m\u001b[1;3m[{'Co_Actor': 'Joe Pesci', 'Number_of_Collaborations': 3}]\u001b[0m\n",
      "\n",
      "\u001b[1m> Finished chain.\u001b[0m\n",
      "Joe Pesci has worked alongside Robert DeNiro the most, with 3 collaborations.\n"
     ]
    },
    {
     "name": "stdin",
     "output_type": "stream",
     "text": [
      "\n",
      "\n",
      "Enter your question (Type 'EXIT' to exit) :  EXIT\n"
     ]
    },
    {
     "name": "stdout",
     "output_type": "stream",
     "text": [
      "Exiting\n"
     ]
    }
   ],
   "source": [
    "while True:\n",
    "    question = input(\"\\n\\nEnter your question (Type 'EXIT' to exit) : \")\n",
    "    \n",
    "    if question == \"EXIT\":\n",
    "        print(\"Exiting\")\n",
    "        break\n",
    "    else:\n",
    "        print(chain.invoke(question)[\"result\"])"
   ]
  }
 ],
 "metadata": {
  "kernelspec": {
   "display_name": "Python [conda env:newenv] *",
   "language": "python",
   "name": "conda-env-newenv-py"
  },
  "language_info": {
   "codemirror_mode": {
    "name": "ipython",
    "version": 3
   },
   "file_extension": ".py",
   "mimetype": "text/x-python",
   "name": "python",
   "nbconvert_exporter": "python",
   "pygments_lexer": "ipython3",
   "version": "3.10.14"
  }
 },
 "nbformat": 4,
 "nbformat_minor": 5
}
